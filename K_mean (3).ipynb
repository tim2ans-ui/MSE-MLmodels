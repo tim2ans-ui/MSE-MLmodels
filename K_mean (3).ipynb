{
 "cells": [
  {
   "cell_type": "markdown",
   "id": "5e397127-be15-4ba2-9977-e8d5e4ab5a0a",
   "metadata": {},
   "source": [
    "# Create K-means clustering algorithm for Mechanical Properties"
   ]
  },
  {
   "cell_type": "markdown",
   "id": "3dc4e0c0-f791-41f8-a7a4-6ca219481c93",
   "metadata": {},
   "source": [
    "### Data Cleaning for JARVIS Dataset"
   ]
  },
  {
   "cell_type": "code",
   "execution_count": 1,
   "id": "a885f25a-65bc-477a-b3fe-1cc96fdb68a2",
   "metadata": {},
   "outputs": [
    {
     "name": "stdout",
     "output_type": "stream",
     "text": [
      "27      0.196\n",
      "28      0.039\n",
      "30       0.78\n",
      "35      0.372\n",
      "36      0.866\n",
      "        ...  \n",
      "2857    2.104\n",
      "2864    0.184\n",
      "2873    2.101\n",
      "2874    0.121\n",
      "2883    0.211\n",
      "Name: spillage, Length: 363, dtype: object\n"
     ]
    }
   ],
   "source": [
    "import csv\n",
    "import numpy as np\n",
    "import pandas as pd\n",
    "\n",
    "jarvis_data = pd.read_csv(\"C:/Users/monia/Downloads/all_filtered_materials.csv\", delimiter=\",\")\n",
    "\n",
    "n = 0\n",
    "jarvis_data_lst = []\n",
    "result = True\n",
    "\n",
    "while result:\n",
    "    if n <= 65:\n",
    "        column_data = jarvis_data.iloc[:, n].replace(\"na\", np.nan).dropna()  # Convert \"NA\" to NaN, then drop\n",
    "        jarvis_data_lst.append(column_data)\n",
    "        n += 1\n",
    "    else:\n",
    "        result = False\n",
    "print(jarvis_data_lst[10])"
   ]
  },
  {
   "cell_type": "markdown",
   "id": "04c08330-e1af-4579-b8c2-f2ad3a2dc173",
   "metadata": {},
   "source": [
    "### Data Preprocessing for Materials Project Mechanical Properties (Elastic Modulus, Poisson Ratio, Bulk Modulus, Shear Modulus)"
   ]
  },
  {
   "cell_type": "code",
   "execution_count": 2,
   "id": "ebbea804-9846-424e-9255-b83fac16467e",
   "metadata": {
    "scrolled": true
   },
   "outputs": [
    {
     "name": "stdout",
     "output_type": "stream",
     "text": [
      "[[ 1.96844977e+02 -6.40335209e+06  1.77176819e+03 -1.00013835e+00]\n",
      " [ 1.38196495e+02  1.49685986e+02  3.29935850e+02  1.02093320e-01]\n",
      " [ 2.48940448e+02  1.79960050e+02  4.35047599e+02  2.08733821e-01]\n",
      " ...\n",
      " [ 5.19396764e+07  5.94234629e+06  1.71721579e+07  4.44897109e-01]\n",
      " [ 1.66139755e+02  8.73349648e+01  2.22940408e+02  2.76352537e-01]\n",
      " [ 1.73264042e+02  8.68106114e+01  2.23161566e+02  2.85335758e-01]]\n"
     ]
    }
   ],
   "source": [
    "import numpy as np\n",
    "\n",
    "X = np.loadtxt(\"C:/Users/monia/Downloads/mechanical_properties.csv\", delimiter=\",\")\n",
    "print(X)"
   ]
  },
  {
   "cell_type": "code",
   "execution_count": 3,
   "id": "acd8f0ad-8696-404f-8ca2-1da177967655",
   "metadata": {},
   "outputs": [
    {
     "name": "stdout",
     "output_type": "stream",
     "text": [
      "[-1.00013835  0.10209332  0.20873382 ...  0.44489711  0.27635254\n",
      "  0.28533576]\n"
     ]
    }
   ],
   "source": [
    "print(X[:,3])"
   ]
  },
  {
   "cell_type": "code",
   "execution_count": 4,
   "id": "f41213dd-0ed2-4288-a384-1b5ecca9fe93",
   "metadata": {},
   "outputs": [
    {
     "name": "stdout",
     "output_type": "stream",
     "text": [
      "0       0.102093\n",
      "1       0.208734\n",
      "2       0.293074\n",
      "3       0.233300\n",
      "4       0.237283\n",
      "          ...   \n",
      "2905    0.294334\n",
      "2906    0.269982\n",
      "2907    0.444897\n",
      "2908    0.276353\n",
      "2909    0.285336\n",
      "Name: -1.000138347, Length: 2910, dtype: float64\n"
     ]
    }
   ],
   "source": [
    "df = pd.read_csv(\"C:/Users/monia/Downloads/mechanical_prop_vis.csv\")\n",
    "print(df.iloc[:, 3])\n",
    "#output: -6403355.558"
   ]
  },
  {
   "cell_type": "markdown",
   "id": "9bd0f3a8-d6e3-497b-96b0-189e1b627348",
   "metadata": {},
   "source": [
    "### Data Preprocessing for JARVIS Dataset (dielectric Properties (trace of 3x3 matrix), Formation energy, band gap)"
   ]
  },
  {
   "cell_type": "code",
   "execution_count": 5,
   "id": "b7245990-2d15-4b1d-9522-3b0be01efe16",
   "metadata": {},
   "outputs": [],
   "source": [
    "import csv\n",
    "import numpy as np\n",
    "import pandas as pd\n",
    "\n",
    "jarvis_data = pd.read_csv(\"C:/Users/monia/Downloads/all_filtered_materials.csv\", delimiter=\",\")\n",
    "\n",
    "n = 0\n",
    "jarvis_data_lst = []\n",
    "result = True\n",
    "\n",
    "while result:\n",
    "    if n <= 65:\n",
    "        column_data = jarvis_data.iloc[:, n].replace(\"na\", np.nan).dropna()  # Convert \"NA\" to NaN, then drop\n",
    "        jarvis_data_lst.append(column_data)\n",
    "        n += 1\n",
    "    else:\n",
    "        result = False\n"
   ]
  },
  {
   "cell_type": "markdown",
   "id": "382a879a-9f47-493d-bf64-ba353e450029",
   "metadata": {},
   "source": [
    "### Data Preprocessing for JARVIS Dataset (Bulk Modulus (k), Shear Modulus (G), Young Modulus (E), Poisson's Ratio (v)"
   ]
  },
  {
   "cell_type": "code",
   "execution_count": 6,
   "id": "71861284-5222-4ed3-a701-f72efb6de905",
   "metadata": {},
   "outputs": [],
   "source": [
    "import csv\n",
    "import numpy as np\n",
    "import pandas as pd\n",
    "\n",
    "jarvis_data = pd.read_csv(\"C:/Users/monia/Downloads/all_filtered_materials.csv\", delimiter=\",\")\n",
    "\n",
    "n = 0\n",
    "jarvis_data_lst = []\n",
    "result = True\n",
    "\n",
    "while result:\n",
    "    if n <= 65:\n",
    "        column_data = jarvis_data.iloc[:, n].replace(\"na\", np.nan).dropna()  # Convert \"NA\" to NaN, then drop\n",
    "        jarvis_data_lst.append(column_data)\n",
    "        n += 1\n",
    "    else:\n",
    "        result = False\n"
   ]
  },
  {
   "cell_type": "code",
   "execution_count": 7,
   "id": "dd7621b4-3539-442f-9706-11fd9f733247",
   "metadata": {},
   "outputs": [
    {
     "name": "stdout",
     "output_type": "stream",
     "text": [
      "Expanded tensor CSV saved successfully.\n"
     ]
    }
   ],
   "source": [
    "import pandas as pd\n",
    "import ast\n",
    "\n",
    "# --- Your original code ---\n",
    "copy_jarvis_data = pd.read_csv(\"C:/Users/monia/Downloads/filtered_materials_copy.csv\", delimiter=\",\")\n",
    "\n",
    "k = 0\n",
    "jarvis_elastic_data = []\n",
    "jarvis_material = []\n",
    "resul = True\n",
    "\n",
    "while resul:\n",
    "    if k < 2893:\n",
    "        elastic_data = copy_jarvis_data.iloc[k,11]\n",
    "        jarvis_material_data = copy_jarvis_data.iloc[k, 0]\n",
    "        jarvis_elastic_data.append(elastic_data)\n",
    "        jarvis_material.append(jarvis_material_data)\n",
    "        k += 1\n",
    "    else:\n",
    "        resul = False\n",
    "\n",
    "jarvis_elastic_dic = {}\n",
    "\n",
    "l = 0 \n",
    "for i in jarvis_elastic_data:\n",
    "    jarvis_elastic_dic[jarvis_material[l]] = jarvis_elastic_data[l]\n",
    "    l += 1\n",
    "\n",
    "jarvis_elastic_dic = {key: value for key, value in jarvis_elastic_dic.items() if value not in [None, \"na\", \"Na\", \"NA\"]}\n",
    "\n",
    "# --- New part: Expand tensor and save CSV ---\n",
    "expanded_data = []\n",
    "\n",
    "for material, tensor_str in jarvis_elastic_dic.items():\n",
    "    try:\n",
    "        tensor = ast.literal_eval(tensor_str)  # safely convert string to list\n",
    "        flat_tensor = [item for sublist in tensor for item in sublist]  # flatten 6x6\n",
    "\n",
    "        if len(flat_tensor) == 36:\n",
    "            row = {\"Material\": material}\n",
    "            for i in range(6):\n",
    "                for j in range(6):\n",
    "                    row[f\"c{i+1}{j+1}\"] = tensor[i][j]\n",
    "            expanded_data.append(row)\n",
    "    except:\n",
    "        continue  # skip any tensors that can't be parsed\n",
    "\n",
    "expanded_df = pd.DataFrame(expanded_data)\n",
    "expanded_df.to_csv(\"C:/Users/monia/Downloads/jarvis_elastic_tensor_expanded.csv\", index=False)\n",
    "\n",
    "print(\"Expanded tensor CSV saved successfully.\")\n"
   ]
  },
  {
   "cell_type": "code",
   "execution_count": 8,
   "id": "fcbc2e6c-f650-49a2-b1a4-f4ee9ad52a40",
   "metadata": {},
   "outputs": [
    {
     "name": "stdout",
     "output_type": "stream",
     "text": [
      "0        222.2444444\n",
      "1        210.2555556\n",
      "2        160.5777778\n",
      "3        69.93333333\n",
      "4        59.56666667\n",
      "            ...     \n",
      "1396     39.78888889\n",
      "1397     39.82222222\n",
      "1398     68.95555556\n",
      "1399     36.33333333\n",
      "1400    -1.344444444\n",
      "Name: Bulk Modulus (K), Length: 1401, dtype: object\n",
      "0        231.8666667\n",
      "1        203.0733333\n",
      "2        122.9666667\n",
      "3              16.76\n",
      "4               13.9\n",
      "            ...     \n",
      "1396     23.63333333\n",
      "1397     23.63333333\n",
      "1398     42.65333333\n",
      "1399            19.4\n",
      "1400    -2.806666667\n",
      "Name: Shear Modulus (G), Length: 1401, dtype: object\n",
      "0        516.1136286\n",
      "1        460.8506052\n",
      "2        293.8836227\n",
      "3        46.56048729\n",
      "4        38.69049844\n",
      "            ...     \n",
      "1396     59.18249417\n",
      "1397     59.19068251\n",
      "1398     106.0863204\n",
      "1399     49.40654206\n",
      "1400    -4.965009747\n",
      "Name: Young Modulus (E), Length: 1401, dtype: object\n",
      "0        0.112953483\n",
      "1        0.134690108\n",
      "2        0.194972714\n",
      "3        0.389036017\n",
      "4        0.391744548\n",
      "            ...     \n",
      "1396     0.252097902\n",
      "1397     0.252271139\n",
      "1398     0.243587688\n",
      "1399     0.273364486\n",
      "1400    -0.115497076\n",
      "Name: Poisson's Ratio (v), Length: 1401, dtype: object\n"
     ]
    }
   ],
   "source": [
    "material_data_df = pd.read_csv(\"C:/Users/monia/Downloads/jarvis_elastic_tensor_expanded_copy.csv\", delimiter=\",\")\n",
    "print(material_data_df.iloc[:,37])\n",
    "print(material_data_df.iloc[:,38])\n",
    "print(material_data_df.iloc[:,39])\n",
    "print(material_data_df.iloc[:,40])"
   ]
  },
  {
   "cell_type": "markdown",
   "id": "98e37645-c481-4797-a559-20f38b143f03",
   "metadata": {},
   "source": [
    "### Data Preprocessing for Jarvis Dataset"
   ]
  },
  {
   "cell_type": "code",
   "execution_count": 9,
   "id": "3026c57a-909f-4ce5-95d9-ad8305283e0f",
   "metadata": {},
   "outputs": [
    {
     "name": "stdout",
     "output_type": "stream",
     "text": [
      "0       0.02302\n",
      "1       0.02302\n",
      "2       0.75634\n",
      "3       0.00000\n",
      "4       0.27263\n",
      "         ...   \n",
      "2890   -1.20420\n",
      "2891   -1.21066\n",
      "2892   -0.49444\n",
      "2893   -0.20563\n",
      "2894    1.45911\n",
      "Name: formation_energy_peratom, Length: 2895, dtype: float64\n"
     ]
    }
   ],
   "source": [
    "print(jarvis_data_lst[4])"
   ]
  },
  {
   "cell_type": "markdown",
   "id": "3d98adfb-7173-42e6-8af9-04b70c185dbd",
   "metadata": {},
   "source": [
    "### Materials Project Data Processing and Analysis"
   ]
  },
  {
   "cell_type": "code",
   "execution_count": 10,
   "id": "c6cabe9d-4c07-4d7b-831b-649ce8e92e90",
   "metadata": {},
   "outputs": [
    {
     "data": {
      "image/png": "[encoded data removed]",
      "text/plain": [
       "<Figure size 800x1600 with 2 Axes>"
      ]
     },
     "metadata": {},
     "output_type": "display_data"
    }
   ],
   "source": [
    "import matplotlib.pyplot as plt\n",
    "import numpy as np\n",
    "from sklearn.datasets import make_blobs\n",
    "import pandas as pd\n",
    "import matplotlib.pyplot as plt\n",
    "import csv\n",
    "from sklearn.preprocessing import MinMaxScaler\n",
    "from matplotlib import pyplot as plt\n",
    "\n",
    "# Extract columns correctly, ensuring not to exceed df's length\n",
    "num_rows = min(2911, len(df))\n",
    "bulk_modulus_lst = [df.iloc[n, 0] for n in range(num_rows)]\n",
    "shear_modulus_lst = [df.iloc[n, 1] for n in range(num_rows)]\n",
    "young_modulus_lst = [df.iloc[n, 2] for n in range(num_rows)]\n",
    "poisson_ratio_lst = [df.iloc[n, 3] for n in range(num_rows)]\n",
    "#shear_rela_lst = [df.iloc[n, 5] for n in range(num_rows)]\n",
    "\n",
    "# Sort data for continuous line plot\n",
    "#sorted_pairs = sorted(zip(young_modulus_lst, shear_rela_lst))\n",
    "#young_sorted, shear_rela_sorted = zip(*sorted_pairs)\n",
    "\n",
    "# Create subplots\n",
    "fig, ax = plt.subplots(2, 1, figsize=(8, 16))  # 3 rows, 1 column\n",
    "\n",
    "# 1. Combined Scatter Plot\n",
    "ax[0].scatter(young_modulus_lst, shear_modulus_lst, color='blue', alpha=0.7, label=\"Shear Modulus (G)\")\n",
    "ax[0].scatter(young_modulus_lst, bulk_modulus_lst, color='green', alpha=0.7, label=\"Bulk Modulus (K)\")\n",
    "ax[0].scatter(young_modulus_lst, poisson_ratio_lst, color='orange', alpha=0.7, label=\"Poisson's Ratio (ν)\")\n",
    "ax[0].set_xlabel(\"Young's Modulus (E)\")\n",
    "ax[0].set_ylabel(\"Moduli / Poisson's Ratio\")\n",
    "ax[0].set_title(\"Young's Modulus vs. Shear Modulus, Bulk Modulus, and Poisson's Ratio\")\n",
    "ax[0].legend()\n",
    "\n",
    "# 2. Young’s Modulus vs. Shear Relationship (Sorted Line)\n",
    "\"\"\"\n",
    "ax[1].plot(young_sorted, shear_rela_sorted, color='red', linewidth=2)\n",
    "ax[1].set_xlabel(\"Young's Modulus (E)\")\n",
    "ax[1].set_ylabel(\"Shear Relationship\")\n",
    "ax[1].set_title(\"Young's Modulus vs. Shear Relationship\")\n",
    "\"\"\"\n",
    "\n",
    "# 3. Bulk Modulus vs. Shear Relationship\n",
    "\"\"\"\n",
    "ax[2].scatter(bulk_modulus_lst, shear_rela_lst, color='purple', alpha=0.7)\n",
    "ax[2].set_xlabel(\"Bulk Modulus (K)\")\n",
    "ax[2].set_ylabel(\"Shear Relationship\")\n",
    "ax[2].set_title(\"Bulk Modulus vs. Shear Relationship\")\n",
    "\"\"\"\n",
    "# Adjust layout\n",
    "plt.tight_layout()\n",
    "\n",
    "plt.show()\n"
   ]
  },
  {
   "cell_type": "code",
   "execution_count": 11,
   "id": "4dfa75d9-8a85-48dd-8154-eb02051b806b",
   "metadata": {},
   "outputs": [
    {
     "name": "stdout",
     "output_type": "stream",
     "text": [
      "[138.1964947, 248.9404481, 329.5525604, 292.0417405, 221.3789909, 316.9493064, 293.334007, 241.8792896, 305.0348939, 311.1496999, 341.8005224, 144.8620398, 173.5330701, 241.2165423, 219.9084597, 283.9092745, 310.1552624, 207.8728853, 254.9691838, 339.6350976, 286.2359797, 264.2973874, 365.3640306, 264.0212623, 295.7077108, 269.3190965, 308.7006835, 78.59231172, 51.19929601, 143.4526802, 154.3896759, 62.19611139, 129.0035638, 59.39342965, 138.4894006, 154.6179136, 140.2263491, 242.8137425, 79.04231094, 83.17909472, 76.57408605, 223.4253665, 142.8665206, 173.829619, 181.0214786, 165.3012399, 183.3876087, 174.7276333, 184.1673105, 188.7440697, 175.916079, 190.776865, 169.8665496, 186.3697654, 195.3218364, 225.5827811, 198.4405084, 236.2388686, 299.8702523, 352.3769286, 326.1597972, 316.1835336, 211.6877176, 230.4488192, 163.8935569, 241.602469, 258.0722161, 286.0439122, 314.2052693, 145.2024633, 252.6318649, 184.9945916, 200.4960605, 207.1661112, 209.1849344, 298.3891309, 182.8856335, 203.5870609, 326.4011704, 194.5531657, 183.5011194, 188.8821839, 112.4171532, 129.3226869, 127.3357628, 219.8904259, 129.0182842, 120.9338926, 159.0350118, 159.2777491, 149.2462662, 159.8485985, 155.6342991, 127.7228468, 122.5490435, 161.7198319, 90.31057729, 375.4289448, 204.84269, 280.3438512, 296.8343727, 301.6105234, 215.4180379, 223.9478063, 230.8152855, 226.2517406, 157.8962602, 228.4929545, 204.2342657, 198.1486533, 166.078294, 151.7740475, 335.3968046, 310.1583705, 171.6416407, 243.51669, 216.4560249, 202.5191854, 201.5786872, 207.9574845, 175.6734719, 204.2736382, 174.7642365, 170.6944032, 185.3388243, 175.1497955, 158.9802882, 156.4451099, 185.9643228, 204.5921632, 315.2167059, 290.9672007, 299.8880048, 280.7015717, 179.3455684, 298.3939553, 332.0160568, 153.0273663, 224.763153, 181.3562442, 182.2693467, 177.7153226, 170.0814766, 281.2270992, 278.7054628, 282.0879024, 271.6231476, 284.1168293, 238.389082, 294.264257, 225.314401, 274.8526247, 291.5950337, 279.9104633, 301.7920435, 137.999115, 229.1678041, 295.4478336, 324.6685714, 266.5913343, 354.8593461, 297.3244791, 245.503244, 249.6323725, 185.0378486, 226.910823, 219.9731028, 186.2391955, 277.1089997, 185.4935712, 158.4487899, 148.4717957, 312.6304105, 166.3780243, 168.1064012, 160.8626715, 323.8504113, 269.6546499, 164.4985127, 206.7497713, 218.1116163, 173.840184, 174.0960149, 174.5353776, 195.9504089, 143.6831879, 172.6298676, 172.0005649, 167.6571269, 144.8362556, 181.7497641, 171.8645879, 174.1570962, 173.233239, 174.8549212, 146.8931781, 141.1274892, 278.0314696, 294.3473331, 213.557922, 227.2086023, 210.3908533, 194.7534909, 202.924006, 202.2647017, 209.3146002, 272.1935118, 294.461708, 233.3788425, 213.6360969, 218.1804503, 195.5675332, 129.6556722, 303.372973, 189.7816497, 76.87078379, 109.1014757, 113.1462236, 55.77646768, 113.5067837, 128.9844845, 218.7927259, 160.0298448, 224.8416338, 128.6720629, 246.2786587, 26.87972381, 111.303568, 97.93135357, 146.91366, 71.67657121, 114.1056259, 66.73963912, 53.83511896, 179.2585528, 127.1181338, 149.8497374, 38.77323339, 138.4467865, 145.7886455, 100.3299559, 157.3402685, 224.022697, 42.66463917, 43.37633692, 94.48083828, 170.575325, 178.7808465, 49.8234948, 78.48633099, 194.4077669, 203.4825674, 155.2205326, 236.6891773, 44.90908942, 64.25404566, 161.8043794, 224.4981869, 159.4382455, 138.3517583, 171.5408861, 177.5620807, 179.7953767, 48.22781908, 205.1034485, 64.61278277, 131.6671615, 55.20673428, 204.2478105, 158.4069677, 121.6100343, 160.2534796, 63.77574937, 109.385511, 52.95971901, 72.40968846, 57.11898439, 117.7314359, 94.55884282, 71.82512914, 218.9116662, 197.6170332, 194.3405176, 101.4617319, 76.53507123, 111.8409837, 41.58675225, 39.94263545, 22.12680034, 185.4229156, 72.40152635, 158.9335113, 68.31373303, 84.60282177, 80.79240082, 50.13518284, 63.06853265, 55.85252884, 108.1881048, 64.65940519, 232.8316806, 61.70245313, 99.4627131, 96.01971278, 58.82874396, 162.6487367, 153.1585838, 100.3580783, 79.68404749, 66.11677876, 235.0767432, 191.9641942, 76.35492308, 63.96491765, 121.6030555, 142.0574656, 114.6286168, 199.3033282, 187.7055779, 134.1594438, 145.342699, 179.0731253, 185.1605643, 185.3858977, 129.6872168, 167.3012203, 230.4758369, 71.27041648, 138.4553211, 106.6967619, 156.9360018, 129.9423667, 93.14299512, 204.2284192, 203.1111378, 125.3809125, 188.1694878, 127.3557177, 162.7893634, 151.4138676, 134.4829872, 181.8218056, 158.5394156, 195.1767963, 195.1570679, 172.0383778, 179.9625123, 148.8272581, 121.1180608, 160.6449361, 220.8993822, 192.4089417, 230.2559829, 164.6444687, 150.3369052, 159.8152656, 172.0003343, 49.68254431, 57.65003458, 193.541725, 199.2299466, 238.3761616, 151.9981951, 147.5850612, 268.4516798, 240.987944, 123.1365284, 109.0611896, 110.7426345, 76.17128207, 50.30615316, 146.3907013, 29.04290057, 270.5249578, 220.9416619, 97.73502819, 230.7591376, 230.9307439, 77.24749305, 86.00456578, 48.97377395, 46.70046961, 187.173886, 65.57451537, 123.457664, 135.096051, 195.9127675, 228.5851435, 218.9329456, 193.9698308, 255.7559574, 237.1820981, 55.26160538, 195.7958838, 181.9844857, 178.5462972, 124.1707067, 155.7449285, 63.93316478, 260.7225879, 58.55403664, 158.1801259, 244.2287135, 82.71007356, 159.0927954, 62.95318786, 54.78925056, 80.35858868, 188.6455306, 237.931486, 68.39699612, 236.1081813, 184.8316896, 194.2917769, 209.626812, 42.61093307, 161.4093842, 201.1228629, 87.13264411, 55.44259125, 134.7205205, 117.4536191, 119.1038277, 53.80433993, 214.4737544, 50.08747806, 214.1136609, 163.076636, 92.52849545, 56.30887536, 117.5397792, 81.23068036, 78.73542579, 72.98411371, 54.5904237, 157.1560436, 67.89007515, 51.61565055, 36.57151798, 112.1241986, 179.0695369, 188.5167203, 64.5204523, 56.28671995, 214.6179474, 172.2867517, 63.38311275, 38.02512018, 67.86058978, 66.48864962, 84.5472277, 81.14134788, 88.00699992, 93.46286477, 92.40056393, 87.06664188, 134.5065407, 88.89258182, 89.17106008, 92.62269581, 124.1284404, 126.6675611, 119.7595468, 101.1376381, 97.18235851, 112.8547495, 112.5964205, 107.8084703, 110.7902076, 105.8306431, 112.1343357, 183.6039284, 142.9422491, 81.19891724, 28.99560877, 104.6324793, 116.6131433, 157.7185926, 119.1718678, 128.9993347, 124.0618522, 125.0298842, 108.6296161, 108.2595682, 123.5817735, 92.96822883, 98.03097047, 96.93506809, 91.87526066, 49.76800155, 122.8228516, 147.9823545, 112.2791003, 48.99948566, 128.389917, 131.5443926, 79.39389819, 133.2523565, 90.41518318, 83.72844846, 70.54818587, 204.0525365, 189.5471132, 23.76537051, 59.53521027, 116.6288658, 168.3341265, 190.0123791, 110.8847077, 109.693477, 89.16697862, 129.6751348, 109.960158, 104.2817798, 96.230736, 73.60466239, 82.06433266, 47.88648443, 80.850323, 74.27513291, 79.8913183, 55.93265519, 64.41635623, 72.10983036, 82.95804756, 42.63120848, 79.49781105, 91.01850897, 83.14372288, 109.3321673, 167.3649897, 44.98175463, 197.2842992, 46.33937921, 46.92817279, 62.30850876, 44.74627035, 72.03531043, 59.20060407, 105.4569151, 225.3798809, 135.91622, 104.8193991, 124.3781802, 119.3424793, 103.8462534, 179.5092349, 211.6494522, 185.3448621, 180.5324735, 218.5348393, 203.2287525, 233.3108035, 201.0680118, 199.8476955, 200.1278224, 163.4959635, 180.4861331, 65.04604781, 65.87227381, 67.46173136, 61.45845299, 65.61613645, 66.27174931, 115.8499225, 135.9997368, 60.62238261, 203.0034401, 188.4454782, 39.38183662, 95.7296114, 94.81231969, 96.17198643, 98.64760992, 91.9576634, 101.5627517, 174.4599496, 76.4619421, 94.55150913, 93.69686529, 33.24528347, 46.9042931, 40.79635639, 43.69284686, 36.82292696, 31.66612814, 51.22875464, 35.19073556, 42.03493795, 136.235166, 64.10466752, 65.23564543, 202.498957, 126.2354379, 122.0563074, 106.5776146, 102.817969, 106.2688612, 106.1806881, 143.2250756, 106.002111, 132.4389361, 62.53495359, 82.76699194, 101.8287566, 69.36160814, 59.02114492, 103.9757055, 88.37589973, 76.78623688, 86.50006824, 76.71500354, 95.50414963, 80.49046593, 75.98019222, 102.5922643, 67.03288873, 77.93782729, 93.65428894, 78.65462294, 61.75068213, 102.7485116, 107.6932007, 114.2381721, 200.3129094, 157.3394122, 113.0618404, 172.8504153, 89.74291805, 90.47434387, 87.02354771, 87.79222192, 86.32250473, 96.57083625, 24.09717632, 112.6940501, 31.64141114, 57.28542732, 71.46851275, 72.37043158, 51.06012622, 71.01122729, 54.39129759, 129.4234326, 112.2319451, 117.1617287, 43.69779447, 49.51402938, 50.19385133, 116.3440507, 116.4998915, 40.65778201, 119.1826044, 72.51964512, 107.0764078, 113.8502867, 83.8791344, 167.1584108, 133.4781176, 36.14097049, 44.79339427, 60.74199921, 215.7021779, 215.3956599, 65.38646857, 204.3431527, 179.772852, 94.41199277, 41.63159042, 168.6675475, 166.1286999, 169.9315193, 184.6231123, 42.17232813, 152.1262242, 46.26091627, 77.06670914, 45.02251692, 33.36634717, 68.56928968, 37.9366645, 67.73193373, 93.33864863, 89.26889609, 98.26617806, 46.02881731, 55.60310053, 40.23337149, 49.46424113, 214.2699315, 163.2861235, 152.0938804, 153.9631653, 189.0986367, 80.46568993, 180.4235753, 158.3811203, 22.44416811, 350.2222222, 58.68835068, 89.18779121, 81.5625511, 59.89128173, 95.63482996, 67.60424711, 82.35064618, 38.55176803, 78.79830809, 67.54120557, 295.5629649, 41.38492844, 227.9863626, 198.722241, 167.7499502, 107.9054004, 128.4728009, 182.71801, 157.3384586, 186.1806423, 192.9989862, 187.2356009, 222.8509775, 152.1613928, 199.273757, 190.3035221, 195.8742309, 204.5976432, 38.32074551, 166.3681399, 167.9690053, 127.5312926, 128.2416496, 186.5632895, 172.8361945, 193.7627784, 199.8357186, 35.29991903, 190.3071811, 85.1182942, 86.8147487, 160.2804677, 41.03760866, 200.600572, 81.20961864, 85.08926552, 33.10350633, 141.6698267, 148.8726185, 185.7967472, 100.2997446, 66.06680182, 80.39447456, 48.40336976, 145.1221829, 173.1794039, 188.3511408, 197.2024904, 183.3930057, 116.9818397, 120.3031422, 155.2842235, 65.86172441, 193.2864056, 68.64987721, 187.2563377, 147.2937984, 191.6200427, 212.6743583, 229.7784967, 43.60797821, 236.903836, 115.5575798, 149.693688, 228.8281342, 143.6340935, 160.2065435, 94.23365479, 203.8056174, 66.91557607, 212.9252976, 173.6418049, 155.6291566, 227.6362492, 138.3058714, 193.3962469, 238.1423661, 54.04582271, 167.5936367, 151.6405378, 117.7282245, 117.4773211, 78.56859374, 222.5603652, 268.8797817, 28.54814539, 149.3316796, 192.6273791, 151.3493067, 163.0214097, 146.2264094, 68.8358266, 82.05388585, 107.132803, 90.14441611, 118.5551732, 68.94044309, 47.14477852, 75.21585135, 54.93551708, 56.06804145, 54.25414758, 216.9008265, 177.6340813, 233.2211875, 132.5529721, 56.62812976, 58.62802206, 85.92505029, 189.3560964, 21.97507317, 82.41417907, 54.53779754, 192.5949836, 72.40956638, 168.0264469, 74.31975678, 111.2236241, 105.6651654, 59.43674045, 101.8975862, 65.97462222, 75.05525526, 99.8184943, 80.76238742, 76.46688806, 49.65108579, 69.4944696, 43.81847236, 109.9578154, 103.6878291, 115.2459195, 103.8959838, 83.37087405, 121.949075, 198.4154358, 188.3255643, 90.5202547, 199.112004, 128.7671352, 100.7544111, 104.2435159, 101.0558781, 102.1027335, 93.58547655, 98.45754325, 95.93862792, 23.2803341, 93.4855563, 151.5573027, 103.7313656, 100.7693282, 125.9699144, 123.1951962, 97.95115019, 97.67072415, 164.9506747, 175.0780478, 72.03338394, 76.09773851, 97.89779185, 69.3796458, 73.64578582, 68.97821808, 39.26893435, 73.06508148, 49.12174429, 69.46135433, 43.0850378, 116.7142945, 110.887566, 145.5502987, 107.8097084, 130.3088666, 93.75689407, 48.22291582, 51.33578873, 47.99289943, 39.26084127, 135.1447827, 131.9981001, 133.6711509, 97.09079182, 97.21116134, 97.19308428, 113.524398, 98.70541167, 95.46628964, 118.5888767, 98.50229429, 115.1143288, 94.68835889, 70.01215776, 113.5637332, 51.11678776, 87.49547199, 91.93841137, 84.75449893, 104.0960975, 86.19917214, 109.0960132, 90.40494803, 93.09254583, 97.47168396, 92.19995434, 101.9520213, 100.2533067, 85.96160279, 90.97902392, 66.23799749, 105.6441603, 86.14548986, 61.62479914, 60.7001999, 92.10637097, 50.8420896, 39.00548627, 33.71689795, 143.5485087, 13.55952242, 24.67169076, 38.85572157, 15.55629156, 49.21171061, 35.08755279, 36.73719585, 48.54311988, 121.5000049, 36.70483147, 96.57805566, 116.1010213, 111.2812289, 44.61411264, 110.789881, 41.85502573, 56.04734666, 78.87161492, 77.9889239, 143.0356055, 39.20440609, 50.02753592, 149.8281266, 24.38628845, 39.52891096, 24.55496034, 32.74264626, 110.5501543, 129.8057476, 28.47059233, 42.95269049, 36.20538092, 66.15747556, 49.81983678, 154.6684271, 189.2258792, 203.407397, 144.793164, 199.2051881, 168.5701443, 128.4407243, 63.6840405, 153.5987533, 38.69118754, 76.73292197, 109.7487784, 161.4560809, 163.7952533, 165.8695831, 114.1326638, 37.37661882, 71.9688868, 59.66298278, 103.6720395, 43.02286367, 53.67332082, 100.1532288, 70.8821136, 82.52257089, 34.60927094, 83.9464465, 96.7106448, 56.89438772, 29.85625232, 106.5367369, 84.23033781, 35.52457596, 70.52284357, 141.9418011, 140.6269662, 64.01090605, 94.72731215, 128.1981273, 153.6348521, 89.5982079, 103.8155801, 90.14085823, 118.5642771, 235.9708285, 77.66504638, 77.05395674, 83.80923952, 90.93630819, 101.826635, 86.98143247, 70.02663647, 118.9851697, 88.49096726, 89.58356815, 89.85851174, 60.47426381, 81.43075958, 85.39411832, 72.2724129, 102.4920536, 63.88929593, 78.37097318, 67.82485658, 160.7279897, 128.3303066, 122.3469865, 120.2112637, 113.2569765, 99.6961433, 115.986062, 145.4054882, 60.92766087, 115.6426569, 26.35969371, 128.4993151, 125.1171184, 61.63487034, 118.042584, 66.84298225, 71.51626604, 38.08404875, 60.36022666, 52.40245569, 59.55304403, 54.50977443, 135.6412024, 46.38615963, 206.086094, 141.6933936, 67.85932703, 210.7937851, 155.8818397, 52.77469981, 109.2102849, 165.0849414, 172.1806477, 25.72659367, 134.8464808, 55.39972326, 65.28363301, 69.50875203, 59.59613071, 35.35962725, 138.0754188, 35.03001944, 65.73627361, 50.85814828, 127.6823429, 125.7164701, 174.5226855, 40.66301998, 37.74728493, 38.3330297, 59.8633244, 175.7840497, 27.50460236, 76.04755026, 148.6223444, 30.38684053, 149.1454007, 100.630685, 121.8742323, 52.0245622, 68.28443044, 65.86297529, 24.70375403, 144.3824895, 53.46882336, 136.9678855, 51.21235047, 55.43410403, 55.36506924, 62.47801457, 73.69507026, 61.44631446, 45.25266928, 77.41586342, 42.96941092, 81.53259481, 53.28990682, 91.45774143, 0.0, 125.0290804, 51.38767454, 90.32592036, 81.01762871, 67.71926744, 103.9865869, 95.13219663, 38.57717427, 43.83008852, 57.34975636, 55.67520182, 55.10410727, 55.32452689, 54.56230473, 55.81443912, 56.06519702, 56.39435582, 56.10619107, 55.99017608, 57.03540221, 55.93631186, 57.57154257, 37.83176584, 35.98040724, 45.54693688, 60.19047051, 57.06127212, 49.64247018, 67.21481559, 85.92066611, 59.55087801, 132.2012311, 21.88068364, 31.84119797, 40.46809545, 76.05311555, 55.35790592, 49.71846347, 52.61990586, 55.26086895, 61.68494707, 53.47092172, 55.31394912, 54.55669791, 22.54439932, 35.5868675, 60.74752367, 22.957442, 33.56424166, 47.99984309, 47.83357041, 52.72026911, 73.69643696, 37.55586731, 84.73467708, 64.44023963, 26.89056783, 27.94137852, 105.1770297, 133.9937925, 108.9867739, 104.5469011, 12.0602482, 86.32853624, 20.91292454, 53.01192579, 46.82624656, 33.763773, 52.78003036, 41.60555257, 55.06513504, 57.28392827, 25.12639737, 52.63594593, 132.4340289, 51.43490412, 40.88420833, 26.90292926, 5.574393434, 96.01696106, 11.8613131, 21.74630104, 23.25775136, 5.319218356, 11.58118075, 34.97646143, 14.78159305, 30.23793377, 37.22681541, 16.01237231, 57.13685687, 48.83868827, 126.9736552, 187.4634461, 146.2847616, 180.8531668, 136.6207397, 50.8003865, 94.21473466, 38.61013019, 38.51201594, 32.57634953, 30.59069199, 64.56325669, 54.28684169, 54.93121103, 27.97117971, 30.01314617, 83.57224337, 45.77103174, 66.65929569, 97.30941534, 148.3718324, 70.16147964, 54.49383462, 132.8604373, 176.0020373, 77.49109738, 153.7157342, 39.02862293, 27.00124452, 32.07335037, 43.75674754, 48.60467325, 59.12084099, 28.63291091, 63.71365739, 59.72312183, 25.72682597, 99.50957075, 39.83600753, 65.44825707, 64.93588347, 45.99264556, 44.88024742, 52.34507056, 69.74178799, 22.58724447, 131.0368415, 22.92518516, 74.54453493, 124.0742501, 32.93262253, 30.00854133, 48.60882574, 41.31901592, 59.75999337, 26.90879676, 57.96363988, 61.97507731, 58.30906499, 66.27266391, 65.54538581, 60.23948955, 39.45707004, 137.541082, 26.24243857, 53.48608949, 50.472832, 83.94411247, 32.15482671, 65.15045703, 143.098829, 51.65309735, 57.1816557, 103.5407216, 45.03927979, 48.24928774, 63.57001002, 62.88023829, 56.12023952, 29.09387221, 61.80916464, 33.08200801, 50.83623486, 40.64896346, 60.24480856, 52.07247336, 35.14407711, 46.66675613, 57.03124194, 55.42479907, 68.02041807, 29.40873557, 51.11928283, 44.13831504, 109.522968, 16.60500219, 38.4958959, 56.74844217, 65.50399609, 38.11160022, 162.2222222, 38.10430515, 20.27817355, 14.57834355, 39.98180993, 43.28371031, 34.7106105, 42.5464462, 41.73738382, 36.35613361, 30.00873233, 47.35925354, 31.12454131, 38.10568547, 36.76621811, 24.96503554, 35.66846099, 41.72162303, 37.92560116, 23.71828041, 27.25039826, 44.71809741, 47.33278679, 37.53521755, 22.65636926, 29.94451115, 33.47685136, 41.79965266, 28.31286245, 52.62519489, 52.51621385, 44.46541586, 52.56352473, 51.5220376, 52.03372713, 52.90590295, 51.88059566, 50.89167102, 51.83528848, 54.81907349, 24.3727062, 42.07202454, 54.14364644, 52.76042638, 53.46007267, 33.08804805, 54.24496251, 55.05231143, 54.08699466, 53.21182653, 51.76521247, 53.75990905, 33.25459914, 22.37429805, 58.01947028, 46.53126057, 47.25005878, 46.26940184, 26.91971713, 26.31660733, 27.40047844, 16.91318792, 28.90701104, 26.85198924, 39.51597331, 37.67416495, 68.6483853, 34.31754585, 120.6593071, 36.38235231, 44.9334794, 66.46593795, 38.07004643, 172.4064653, 129.0703015, 42.80726066, 47.51769983, 44.90469547, 34.40125819, 25.56629207, 84.47349448, 82.18747025, 106.2545315, 93.00033693, 24.42478314, 180.1990784, 77.61524249, 81.23541787, 66.83487956, 63.7421931, 32.00469558, 23.52708125, 39.48117473, 44.37597759, 60.77021534, 93.03416042, 36.25391826, 81.93089866, 151.0476881, 53.35970925, 50.29332673, 125.9061851, 139.0157708, 71.47954477, 27.34381183, 54.0686367, 102.5183615, 40.01041952, 126.347264, 31.61464004, 37.20268483, 32.38470252, 129.6318517, 75.68019968, 46.89369764, 28.44635046, 65.40469008, 77.95418014, 47.16418761, 22.0281086, 35.63022076, 130.8249792, 50.07080308, 72.91453489, 36.59625896, 75.91071836, 83.59419996, 18.42573611, 97.68329566, 26.3857506, 65.66512677, 75.06056139, 80.12353998, 30.77411957, 15.40445009, 87.19687469, 36.55508947, 47.13896644, 58.1084148, 45.60368226, 14.27196697, 35.85834817, 34.85970501, 17.49607589, 37.74304877, 161.1378309, 116.0311293, 101.8265812, 140.3982538, 166.2012112, 44.03060755, 38.32120042, 198.8695855, 124.1024627, 114.1198684, 45.87567749, 145.8706896, 34.93274598, 41.53484436, 165.5065167, 162.895829, 216.2505795, 178.5358759, 103.005711, 51.17884113, 163.219548, 53.46936205, 38.18856996, 64.04390011, 40.91924226, 48.3259179, 73.01776455, 149.3647651, 107.6799357, 132.7109669, 32.10643597, 98.78436453, 177.0141262, 32.77281676, 37.58153463, 28.50026065, 119.2276309, 32.71007158, 36.64611533, 47.1960303, 40.98387847, 53.38136898, 57.00674763, 154.820894, 201.4992318, 134.5130453, 105.1128648, 154.7276276, 63.33592661, 41.51804296, 81.94591741, 177.4372632, 172.9263877, 186.247331, 187.693903, 58.98909782, 58.02190018, 75.5832609, 142.157398, 148.2791748, 78.28966558, 140.4354446, 123.9956282, 59.74956862, 79.18851397, 98.70031962, 88.35293903, 55.81190227, 52.6662858, 145.0467899, 97.85441686, 65.61925207, 46.66528208, 118.9743084, 118.3926419, 174.3294996, 81.99464858, 54.84562536, 36.77127116, 123.2813267, 44.12426833, 37.54808982, 100.8196832, 180.2444157, 35.89895325, 112.9140334, 146.6469367, 183.2774831, 141.1806253, 129.8660929, 161.751092, 166.9275978, 165.4251968, 178.310552, 103.9685046, 153.9506219, 7.068649074, 59.4825118, 25.03711163, 149.2525818, 177.0394853, 110.9596051, 116.0566968, 142.6744151, 156.9666455, 159.4193067, 137.5204227, 113.1525829, 126.0556461, 153.4058051, 123.982517, 169.6350606, 107.7935751, 200.7102885, 146.8208479, 108.0048891, 53.84847145, 116.1991043, 34.3460324, 42.61463344, 154.2643457, 58.08556171, 80.5502593, 109.7422823, 60.15907204, 83.85075694, 61.03564139, 56.29596707, 61.63320151, 50.1050257, 88.44921855, 67.46566629, 57.53113918, 82.55426811, 142.7070463, 45.02805123, 112.1343716, 175.9381251, 170.4825706, 176.9346075, 187.3834929, 153.3662862, 141.5441627, 142.7142762, 156.4386739, 65.87808748, 46.29591981, 146.594697, 179.3222009, 67.95959622, 127.341342, 205.9545565, 34.88318837, 152.6857221, 70.3595153, 34.09879289, 117.0999762, 183.7264242, 147.5834267, 38.11098512, 99.61145449, 199.5766829, 174.6281846, 36.77835194, 150.5942867, 88.94016913, 77.31423787, 29.05158945, 30.24767399, 30.55366992, 169.6160255, 39.95126884, 49.21293923, 62.37726602, 84.80881954, 36.57725437, 33.68259205, 80.16466038, 58.63346172, 142.0574216, 54.03714712, 18.67712055, 131.514769, 46.93316042, 74.37985167, 70.04124378, 82.40936276, 79.44171265, 109.7300644, 89.71510466, 67.58141352, 40.89174994, 45.59319722, 96.97849482, 43.07818147, 24.11948169, 66.37236974, 55.60682461, 45.42188312, 63.5647438, 68.6048744, 49.69433925, 49.54890989, 64.78413016, 50.87016542, 70.30251798, 86.93401753, 61.09961588, 73.75400264, 30.02485207, 66.75285899, 103.6245683, 81.1350448, 117.0746612, 107.8202405, 64.08519498, 82.43470284, 111.0668054, 92.69225467, 110.2417745, 61.99815803, 61.21675161, 62.52965017, 60.28740383, 61.75429933, 73.45488643, 54.67620899, 56.01306143, 27.81099937, 96.93485994, 95.00128442, 103.2605696, 89.02414348, 16.41637951, 64.34548989, 43.5210721, 50.20643282, 47.10538526, 47.27166715, 101.7608531, 76.06863233, 59.79403551, 67.95417598, 47.43087507, 48.58886998, 59.81111315, 43.34666625, 45.55915463, 37.07791895, 30.34879432, 126.8420304, 57.90199511, 104.4722222, 73.01172058, 34.48878632, 44.22468095, 57.29284984, 57.38877485, 56.07277037, 68.41726575, 56.39180415, 120.6823228, 65.41328729, 87.70632616, 55.01284168, 46.9693207, 60.95410638, 51.33642045, 56.48255576, 118.4836684, 51.54044279, 97.19575673, 71.75738294, 53.10866214, 60.64826226, 56.65978304, 85.28784949, 32.98096012, 63.93970946, 73.43482344, 68.50521254, 69.23815263, 82.81330323, 81.32358007, 0.0, 79.80279436, 41.74717574, 79.97720724, 102.2622468, 117.7220116, 61.92585235, 65.53296714, 135.4862621, 110.2579484, 106.1797257, 119.3803437, 57.91604159, 161.0397109, 139.7062742, 80.52206633, 133.0252321, 155.1138831, 171.9446478, 142.5290193, 157.4113162, 101.1323626, 190.9944467, 111.0329357, 83.09489178, 184.1565182, 171.5193857, 229.2127489, 57.61063412, 86.35573851, 142.7822547, 49.42882333, 195.8402986, 32.98001731, 60.20627954, 123.7117449, 139.5431011, 123.4012832, 174.3679254, 70.37913823, 64.21502259, 203.4043595, 141.3924677, 80.97049726, 81.06353537, 30.70874661, 73.20333676, 81.64737066, 80.87558252, 48.14599488, 69.51444974, 71.49742592, 89.43454461, 78.28791786, 40.02930069, 59.5698641, 52.27103676, 156.9029269, 90.67429792, 94.05948365, 51.23504555, 77.27758923, 39.83263163, 64.82670364, 93.43526793, 83.49019539, 77.51241403, 82.00162021, 68.89609878, 167.5470578, 90.6891707, 103.6246577, 118.6723719, 86.87447796, 61.80465928, 33.6071832, 111.1246892, 126.6761454, 98.51270586, 77.81047632, 83.69458685, 144.1723589, 154.8710538, 82.63466835, 73.26785585, 72.78962864, 86.27553322, 71.80369962, 64.55001498, 65.89029169, 98.76559357, 58.43764704, 199.840421, 99.37965469, 168.8847886, 183.6034945, 151.9629262, 67.98816225, 65.24999016, 48.48322301, 86.61028905, 61.01004072, 58.79412535, 95.06204423, 167.4704063, 58.53444227, 213.5622356, 40.13513756, 168.2002071, 154.0316548, 41.26240976, 132.6441372, 150.6839465, 197.3470506, 179.2475577, 160.7435271, 121.8125769, 188.4551882, 189.2492982, 134.5930839, 88.21047488, 47.44467542, 77.80386507, 206.9442362, 52.42786888, 38.7152464, 201.0758604, 227.4465834, 62.04640313, 54.86434591, 64.3801352, 58.54419267, 66.22814602, 71.25918355, 73.85175483, 64.27561204, 220.426622, 227.3452096, 34.6510589, 184.9581993, 162.4509341, 223.6054217, 197.7893155, 243.003464, 224.3291718, 236.8807561, 228.1061298, 37.31546476, 47.09191915, 210.4643054, 191.6423328, 56.20480325, 199.9198545, 64.67640402, 172.9000669, 38.78038701, 205.0664415, 50.349812, 43.25159159, 54.43239106, 49.77024591, 59.60159338, 48.49129738, 46.9331106, 40.84287133, 158.4058886, 143.4499899, 123.1769545, 85.14173844, 151.5387544, 101.9096407, 109.6023749, 148.8188144, 176.7088427, 224.1236595, 197.9969839, 120.9530609, 91.21895572, 113.2327333, 124.6218856, 23.22200205, 128.0931425, 197.4185839, 72.83919724, 49.185498, 58.83497959, 55.30418013, 64.58028286, 50.67654588, 47.47680948, 53.3067742, 71.54989451, 72.76539193, 197.4252402, 205.4039948, 70.78190193, 160.2792139, 85.64133327, 134.3280108, 172.2184638, 118.3157964, 64.61669988, 68.82841381, 63.41888938, 66.60531007, 39.826968, 118.2856179, 81.59521368, 112.7763388, 109.0586107, 110.9089647, 123.0301139, 129.4102134, 88.00043945, 115.6262219, 50.48551858, 88.8829733, 64.34816621, 75.12772642, 74.90269011, 76.43723979, 72.93026819, 68.69517023, 73.96322997, 57.12614166, 124.0771649, 71.33747826, 101.6142991, 86.58385703, 73.5626236, 113.6369119, 56.01662598, 57.71754376, 118.0895784, 86.45736184, 81.01751531, 103.1043264, 80.57045689, 145.8577162, 109.0981755, 101.71033, 42.46674286, 125.9871285, 121.5690811, 115.1154818, 132.2730201, 129.8157704, 134.0835105, 98.22328996, 114.0661145, 52.22388066, 115.2999533, 95.75551176, 80.49004779, 146.2941137, 108.9752288, 95.82717484, 64.74707764, 77.69420565, 115.7263497, 88.09133062, 112.5129204, 142.6465863, 131.4529998, 108.7635444, 81.82956516, 73.74918289, 115.3345157, 112.2172323, 136.151599, 79.34888319, 120.8299421, 103.7919242, 94.70750267, 108.705851, 122.0500894, 132.9770128, 136.2287575, 123.7753085, 96.28525011, 112.578913, 102.8531768, 101.8043562, 135.7428662, 134.1523604, 134.9795823, 81.28669181, 129.9843258, 249.5470279, 102.694626, 133.5388655, 116.167311, 131.9451902, 78.09618327, 53.36755209, 43.34159868, 64.74217372, 60.18640622, 46.54857936, 83.3076123, 96.68529573, 76.53661871, 41.39153806, 157.6624095, 136.7769448, 77.78959599, 67.54793181, 97.01991403, 101.4377409, 100.9267291, 111.4338096, 47.17222808, 76.62893565, 69.1739007, 73.34605629, 95.28879292, 92.97896362, 86.37640417, 74.43529997, 70.9998598, 28.2037223, 54.44958888, 78.39154758, 157.7784879, 92.2992152, 141.7669751, 108.2308752, 39.16939696, 205.6935912, 208.3620387, 136.45739, 197.1217202, 127.3134301, 298.9003613, 214.6910792, 141.5089606, 141.7412609, 203.3812547, 221.5135859, 203.6375663, 183.654633, 226.984364, 201.7445424, 108.3407269, 290.9570697, 257.3690475, 209.0832434, 108.5005104, 251.3630916, 192.1298385, 246.8285969, 54.22844684, 227.2440415, 210.8326813, 177.6877109, 258.139338, 151.5611749, 196.0621476, 225.9787313, 40.12086759, 93.2719896, 45.19462321, 69.41345548, 90.72349366, 214.7311863, 226.7898929, 161.1521833, 69.69653958, 202.3565947, 37.60442679, 167.3125256, 152.2594299, 173.8743341, 146.3411964, 201.3005667, 141.8676339, 79.01040806, 76.52353811, 97.32469762, 142.6441216, 92.8313079, 53.80507238, 32.54423933, 91.13919748, 44.39031899, 94.17659728, 65.90508579, 101.2750971, 89.2084155, 183.2987376, 52.35682918, 80.30539226, 197.3757648, 191.1703845, 194.1397304, 193.7457522, 187.9102028, 161.1951554, 103.1214068, 84.49705236, 89.51695015, 135.4151925, 98.98697271, 51.31078897, 18.66118944, 51.78236499, 86.24763838, 64.74540302, 90.46018394, 85.37854779, 49.75716877, 92.50463035, 100.383077, 74.02846835, 151.9263367, 92.20047354, 68.09474958, 103.5700824, 127.0857823, 96.95945011, 96.74174952, 88.36506249, 80.33689771, 88.64496467, 156.4148883, 134.8269074, 85.52981879, 35.49579724, 69.48797683, 67.46574357, 65.21100344, 100.7332125, 177.9625041, 201.8526817, 82.6858965, 68.75649072, 78.26133985, 44.93378064, 220.3389749, 226.0392551, 198.3791705, 218.8384397, 39.27790997, 222.2183319, 227.0750769, 149.8377965, 216.418022, 232.7326931, 206.7137801, 218.6928367, 243.6265416, 200.0827082, 237.1814261, 105.395768, 39.95333761, 142.6101645, 219.3071276, 56.49438076, 64.6486694, 246.9435517, 200.7157601, 62.30569281, 54.97836813, 55.75534355, 67.21139533, 245.128655, 247.4121264, 252.1589757, 139.6013247, 208.5006857, 242.883789, 75.34223696, 258.7652255, 286.5466108, 250.0459664, 74.42822957, 68.26854908, 207.7788464, 228.9205408, 283.8812788, 244.9968571, 253.029462, 196.8009615, 57.83011888, 226.5233577, 268.2800131, 230.9662355, 40.87508655, 228.5173098, 213.9928406, 179.2027772, 66.6129175, 48.8152678, 286.2588435, 171.8672308, 247.2214442, 186.5129892, 286.172686, 179.1888315, 204.4898996, 49.65500018, 170.7368571, 203.6897894, 189.3268346, 45.2301999, 27.66177488, 192.89965, 169.5367542, 215.374374, 221.306954, 189.8599792, 44.149525, 31.11588194, 124.9730008, 163.3042555, 105.9192743, 110.5729916, 163.4610241, 148.0501442, 146.1793536, 91.68637517, 234.5138291, 148.268348, 105.5275168, 151.4395437, 165.258071, 132.1853792, 244.5588803, 185.9841065, 258.6037891, 217.0235382, 172.124472, 115.8270555, 146.3134327, 188.9772992, 134.7987377, 158.5967864, 153.1323392, 145.3687129, 159.6687906, 129.6930988, 194.9857123, 137.2426767, 126.9030491, 32.94017094, 193.846625, 176.8878819, 50.63870352, 188.5068718, 102.5208418, 152.037116, 175.2549364, 205.3875009, 167.8759986, 152.1128574, 63.42621193, 51.85115576, 94.35906434, 122.8020589, 215.2317884, 84.22547939, 141.2302034, 74.09079435, 187.6678438, 188.0327726, 58.38301266, 144.8521009, 220.0307486, 206.2983137, 190.1052885, 85.66814296, 88.18995532, 54.07547726, 90.1021809, 79.78251179, 79.59719691, 80.88566954, 106.4689072, 62.33114061, 82.46723972, 58.2456215, 52.12057344, 141.6916009, 173.6362975, 32.65693756, 163.4505135, 134.1073384, 127.9443326, 143.8950884, 126.0641982, 120.0310405, 121.8835406, 106.3288038, 102.8583084, 110.7488663, 167.7102469, 120.347487, 69.08199688, 69.15623888, 164.2986735, 165.8940557, 129.5285251, 140.9809933, 179.9394831, 238.5649707, 161.0323819, 167.8286406, 128.9504673, 179.7748926, 70.1993992, 118.7947929, 128.9052937, 37.87634605, 101.0546612, 187.1713326, 177.4111071, 140.1476082, 142.7694999, 188.1432803, 115.7591809, 136.8415404, 153.4567633, 119.4975466, 132.0564945, 123.7717136, 119.3254183, 144.2186076, 152.1491555, 158.9626756, 150.0789893, 183.4106568, 136.3893142, 133.9283795, 113.8837873, 135.618578, 380.8514385, 118.7262013, 85.95605125, 137.7740826, 151.491507, 120.1525363, 120.6580718, 138.7612327, 150.2257832, 156.413376, 141.4929341, 152.5308277, 126.816589, 125.8195371, 156.3872371, 175.5258059, 149.0702027, 148.7209924, 137.2199465, 108.7068137, 176.1213576, 144.4205987, 119.1364308, 143.3823226, 114.1034827, 155.1262255, 135.3005504, 155.9574305, 122.144233, 132.8715362, 128.8816748, 122.8048822, 124.4326339, 167.2356546, 126.4922535, 149.8858996, 120.3635467, 84.003669, 164.3335376, 174.208267, 114.6830474, 168.4047708, 94.90504074, 143.6824281, 139.1027919, 132.5829375, 123.2941634, 143.5596604, 116.8993966, 133.7528724, 148.5161569, 121.0617389, 129.1414365, 157.1674812, 122.4488158, 134.8253077, 169.4589542, 112.5675568, 127.4420118, 174.0106827, 147.3291326, 117.2137108, 121.4644431, 157.3076013, 146.0090011, 134.7346718, 115.9437339, 170.2810003, 113.094281, 98.03617892, 143.726772, 119.1723651, 163.3343104, 90.23405709, 117.2186073, 138.1218621, 179.1016527, 169.4401927, 104.2730219, 159.2154078, 90.99238314, 153.7582349, 134.0136632, 186.8387114, 154.970088, 149.7124462, 116.1009524, 187.5824659, 159.8418838, 137.703146, 152.4390304, 151.123636, 159.4835006, 176.2031543, 137.8253221, 147.0122077, 133.0382401, 122.1321358, 105.6220741, 125.0924003, 94.07877304, 86.6617147, 148.3625809, 181.8656256, 49.1630807, 86.73640745, 72.10269677, 151.2482034, 157.7054795, 170.2707012, 264.3131781, 108.6126194, 111.0958957, 181.3343217, 181.4274779, 172.6705783, 49.88719998, 140.4426264, 88.29369034, 117.8907499, 127.8524024, 132.7574035, 103.5434393, 123.9382033, 91.88811348, 126.8825727, 66.38310904, 125.5440666, 113.3595408, 114.6160818, 117.5140071, 128.8493719, 130.258878, 120.2418173, 107.1077021, 129.8676159, 107.0704077, 130.057637, 166.1606405, 182.0142414, 112.5690019, 195.8684035, 172.7974359, 143.760561, 113.2153705, 115.3075583, 133.7002262, 125.682717, 133.6754786, 141.919921, 130.9042503, 129.3490857, 139.8244759, 129.3394037, 241.2543072, 215.425425, 267.9214899, 58.32378576, 193.426525, 193.5561654, 5.06e-08, 211.5637423, 224.5219006, 40.87926049, 185.8194444, 129.5730719, 122.7434583, 205.9588086, 237.3998218, 104.6933788, 122.8682907, 136.6651783, 138.7115409, 193.8116692, 123.0772142, 79.49060028, 29.69050536, 32.36737043, 178.8411763, 79.49896667, 62.04037964, 65.47984468, 156.0482292, 131.9091238, 148.2074732, 155.2172177, 180.2189882, 182.7060695, 182.0444172, 186.2893994, 207.274539, 142.3881025, 13.92935758, 213.6809149, 171.1741847, 218.3340255, 159.4047355, 230.0763095, 231.6819062, 323.8938161, 97.6030269, 306.7045543, 239.0712907, 178.5184374, 219.0508668, 165.0882373, 251.4778313, 296.2378984, 121.3036672, 223.5151236, 334.7445314, 295.2792576, 335.3906876, 244.7261421, 218.9649594, 226.6447356, 18.60990878, 21.77694117, 149.8207055, 171.1919121, 152.1444007, 145.0551438, 139.0409536, 104.4330571, 208.9286591, 227.9604655, 205.3429128, 168.2895349, 258.8196923, 183.9446318, 213.9932735, 192.5238834, 196.9669991, 236.1975441, 355.2105817, 196.8086601, 97.9991575, 190.969069, 110.9760064, 86.40595861, 123.0378066, 126.1382668, 101.1116946, 119.2943777, 105.8143873, 95.62671112, 178.2794378, 98.71327059, 118.7784354, 122.0779522, 220.5317917, 230.8485422, 320.0912236, 309.7239366, 202.4412668, 186.0524388, 367.5880017, 138.0013298, 185.865135, 182.3730015, 137.3696574, 154.4356477, 182.1492207, 173.0985256, 185.4499257, 175.1320595, 153.5733678, 155.0508936, 159.6987297, 149.8172916, 183.8276013, 157.3610019, 151.0018913, 122.8502456, 260.3500738, 292.664526, 173.7823259, 163.0905759, 48.12856032, 96.39043759, 119.5402756, 115.8548459, 184.4281444, 100.5526982, 166.8698416, 156.4653124, 160.4816333, 156.4572539, 139.6670356, 161.5162806, 168.4625245, 180.346032, 193.3491964, 175.5531973, 177.6365469, 188.1818782, 235.5432923, 101.5596583, 24.5067177, 227.3430134, 130.3417256, 249.0538709, 237.3809058, 40.78734097, 175.065253, 204.0713117, 194.6056429, 185.5032181, 351.2231607, 181.6208832, 87.6875, 266.2479271, 260.0123808, 260.4631642, 215.4844865, 272.863934, 193.0270067, 221.9157972, 178.4487819, 247.4809819, 163.580038, 206.5303781, 172.5417731, 169.3155992, 159.0771456, 157.9517665, 143.0598418, 121.3297202, 151.141032, 270.3817527, 200.4913269, 133.1767171, 278.5112308, 137.7999132, 145.3004482, 176.8642172, 167.7699103, 240.3082095, 198.2646378, 39.33956924, 67.42431919, 306.7074908, 84.57662141, 113.4318804, 54.05018482, 16.15543806, 6.341879984, 278.9759711, 35.8125257, 38.4224689, 91.41657891, 182.750666, 167.5712875, 130.9422849, 110.6814711, 203.9669852, 43.27095849, 206.7266886, 180.8177692, 142.0975891, 179.5686302, 45.97725145, 298.4784589, 281.6595467, 135.3950811, 64.1718267, 44.26052064, 107.249368, 45.17354889, 51.56293274, 63.16256637, 67.345113, 149.3202706, 150.025417, 147.0295413, 59.72651255, 185.6699608, 87.43929743, 159.7730136, 72.16556355, 204.5558165, 133.4295207, 131.0637117, 78.44592509, 112.902215, 79.51535706, 88.82375401, 67.36628402, 269.1220078, 74.94078543, 89.00359686, 102.8241401, 88.91405921, 94.94635947, 116.677231, 289.1900281, 245.6487982, 159.1687059, 225.1919318, 282.1070347, 210.6367764, 304.0987604, 329.2275852, 152.1849326, 75.67002042, 61.75892059, 50.34132979, 59.39721926, 35.43548245, 38.40657679, 55.60996279, 85.62204655, 243.0433978, 133.913516, 129.7846128, 115.1330291, 154.6416528, 136.3954686, 148.8651685, 88.18655975, 85.75534368, 136.4070322, 102.497851, 29.2913064, 161.7813294, 230.5702096, 199.024044, 66.92247361, 84.07777063, 76.91953168, 84.78391378, 89.36154717, 70.39054084, 39.89726917, 67.34921831, 269.8961156, 291.5465047, 224.2851809, 111.2273192, 240.863589, 166.1397548, 173.2640425]\n"
     ]
    }
   ],
   "source": [
    "new_bulk_lst = []\n",
    "for i in bulk_modulus_lst:\n",
    "    if 0 <= i <= 1000:\n",
    "        new_bulk_lst.append(i)\n",
    "\n",
    "new_shearmod_lst = []\n",
    "for j in shear_modulus_lst:\n",
    "    if 0 <= j <= 1000:\n",
    "        new_shearmod_lst.append(j)\n",
    "\n",
    "print(new_bulk_lst)\n"
   ]
  },
  {
   "cell_type": "code",
   "execution_count": 12,
   "id": "4f7d17cb-3c2b-4ef3-a41e-61f7ef90fa57",
   "metadata": {},
   "outputs": [
    {
     "name": "stdout",
     "output_type": "stream",
     "text": [
      "15.0516\n"
     ]
    }
   ],
   "source": [
    "import pandas as pd\n",
    "\n",
    "# Prepare JDP list\n",
    "JDP = [\n",
    "    jarvis_data_lst[4],\n",
    "    jarvis_data_lst[6],\n",
    "    jarvis_data_lst[18],  # JDP[2]\n",
    "    jarvis_data_lst[19],  # JDP[3]\n",
    "    jarvis_data_lst[20],\n",
    "    new_bulk_lst,\n",
    "    new_shearmod_lst,\n",
    "    material_data_df.iloc[:, 39],\n",
    "    material_data_df.iloc[:, 40],\n",
    "]\n",
    "\n",
    "# Convert to DataFrame for vectorized computation\n",
    "df_1 = pd.DataFrame({\n",
    "    'val1': JDP[2],\n",
    "    'val2': JDP[3],\n",
    "    'val3': JDP[4]\n",
    "})\n",
    "\n",
    "df_1 = df_1.astype(float)\n",
    "\n",
    "trace_data = (df_1['val1'] + df_1['val2'] + df_1['val3'])\n",
    "JDP.append(trace_data)\n",
    "print(JDP[4][1])"
   ]
  },
  {
   "cell_type": "code",
   "execution_count": 13,
   "id": "a5e90ec7-6296-4008-addb-d5c76a92e981",
   "metadata": {},
   "outputs": [
    {
     "ename": "NameError",
     "evalue": "name 'shear_rela_lst' is not defined",
     "output_type": "error",
     "traceback": [
      "\u001b[31m---------------------------------------------------------------------------\u001b[39m",
      "\u001b[31mNameError\u001b[39m                                 Traceback (most recent call last)",
      "\u001b[36mCell\u001b[39m\u001b[36m \u001b[39m\u001b[32mIn[13]\u001b[39m\u001b[32m, line 3\u001b[39m\n\u001b[32m      1\u001b[39m \u001b[38;5;66;03m#Only for the Shear relationship calculation\u001b[39;00m\n\u001b[32m      2\u001b[39m new_shear_lst = []\n\u001b[32m----> \u001b[39m\u001b[32m3\u001b[39m \u001b[38;5;28;01mfor\u001b[39;00m i \u001b[38;5;129;01min\u001b[39;00m \u001b[43mshear_rela_lst\u001b[49m:\n\u001b[32m      4\u001b[39m     \u001b[38;5;28;01mtry\u001b[39;00m:\n\u001b[32m      5\u001b[39m         new_shear_lst.append(\u001b[38;5;28mfloat\u001b[39m(i))  \u001b[38;5;66;03m# Convert valid numbers\u001b[39;00m\n",
      "\u001b[31mNameError\u001b[39m: name 'shear_rela_lst' is not defined"
     ]
    }
   ],
   "source": [
    "#Only for the Shear relationship calculation\n",
    "new_shear_lst = []\n",
    "for i in shear_rela_lst:\n",
    "    try:\n",
    "        new_shear_lst.append(float(i))  # Convert valid numbers\n",
    "    except ValueError:\n",
    "        continue  # Skip invalid values like '#DIV/0!'\n",
    "\n",
    "while len(new_shear_lst) < len(X):\n",
    "    new_shear_lst.append(0)  # Append zeros to match X\n",
    "\n",
    "X = np.column_stack((X, new_shear_lst))\n",
    "print(X[:,3])\n"
   ]
  },
  {
   "cell_type": "code",
   "execution_count": 14,
   "id": "bfbdcaa9-0311-4089-bda4-c29935a57f51",
   "metadata": {},
   "outputs": [],
   "source": [
    "import numpy as np\n",
    "import matplotlib.pyplot as plt\n",
    "\n",
    "class KMeans:\n",
    "    def __init__(self, n_clusters, max_iters=100):\n",
    "        self.n_clusters = n_clusters\n",
    "        self.max_iters = max_iters\n",
    "    \n",
    "    def fit(self, X):\n",
    "        # Initialize centroids randomly\n",
    "        self.centroids = X[np.random.choice(X.shape[0], self.n_clusters, replace=False)]\n",
    "        for _ in range(self.max_iters):\n",
    "            labels = self._assign_labels(X)\n",
    "            new_centroids = self._update_centroids(X, labels)\n",
    "            if np.all(self.centroids == new_centroids):\n",
    "                break\n",
    "            self.centroids = new_centroids\n",
    "    \n",
    "    def _assign_labels(self, X):\n",
    "        # Calculate the distance from each point to every centroid\n",
    "        distances = np.linalg.norm(X[:, np.newaxis] - self.centroids, axis=2)\n",
    "        return np.argmin(distances, axis=1)\n",
    "    \n",
    "    def _update_centroids(self, X, labels):\n",
    "        # Update centroids by taking the mean of points in each cluster\n",
    "        new_centroids = np.array([X[labels == i].mean(axis=0) for i in range(self.n_clusters)])\n",
    "        return new_centroids\n",
    "\n"
   ]
  },
  {
   "cell_type": "code",
   "execution_count": 15,
   "id": "1912c444-1d85-4d1f-858f-25d5cb6223fa",
   "metadata": {},
   "outputs": [
    {
     "name": "stdout",
     "output_type": "stream",
     "text": [
      "[ 0.02302  0.02302  0.75634 ... -2.49762 -2.58935 -2.82176]\n",
      "0       0.02302\n",
      "1       0.02302\n",
      "2       0.75634\n",
      "3       0.00000\n",
      "4       0.27263\n",
      "         ...   \n",
      "2890   -1.20420\n",
      "2891   -1.21066\n",
      "2892   -0.49444\n",
      "2893   -0.20563\n",
      "2894    1.45911\n",
      "Name: formation_energy_peratom, Length: 2895, dtype: float64\n"
     ]
    }
   ],
   "source": [
    "import numpy as np\n",
    "\n",
    "# Find the minimum length\n",
    "min_len = min(len(JDP[7]), len(JDP[1]), len(JDP[5]), len(JDP[6]), len(JDP[0]))\n",
    "\n",
    "# Zip all feature lists and filter out rows with '#VALUE!' or other non-floats\n",
    "clean_data = []\n",
    "for i in range(min_len):\n",
    "    try:\n",
    "        row = [\n",
    "            float(JDP[7][i]),\n",
    "            float(JDP[1][i]),\n",
    "            float(JDP[5][i]),\n",
    "            float(JDP[6][i]),\n",
    "            float(JDP[0][i])\n",
    "        ]\n",
    "        clean_data.append(row)\n",
    "    except ValueError:\n",
    "        continue  # Skip rows with invalid values\n",
    "\n",
    "# Convert to NumPy array\n",
    "X = np.array(clean_data)\n",
    "\n",
    "# Print the cleaned and stacked data\n",
    "print(X[:,4])\n",
    "print(JDP[0])\n"
   ]
  },
  {
   "cell_type": "code",
   "execution_count": 17,
   "id": "e5fed37a-2393-4d87-86d3-485df28ce72b",
   "metadata": {},
   "outputs": [
    {
     "name": "stdout",
     "output_type": "stream",
     "text": [
      "Collecting seaborn\n",
      "  Downloading seaborn-0.13.2-py3-none-any.whl.metadata (5.4 kB)\n",
      "Requirement already satisfied: numpy!=1.24.0,>=1.20 in c:\\users\\monia\\miniconda3\\lib\\site-packages (from seaborn) (1.26.4)\n",
      "Requirement already satisfied: pandas>=1.2 in c:\\users\\monia\\miniconda3\\lib\\site-packages (from seaborn) (2.2.3)\n",
      "Requirement already satisfied: matplotlib!=3.6.1,>=3.4 in c:\\users\\monia\\miniconda3\\lib\\site-packages (from seaborn) (3.10.1)\n",
      "Requirement already satisfied: contourpy>=1.0.1 in c:\\users\\monia\\miniconda3\\lib\\site-packages (from matplotlib!=3.6.1,>=3.4->seaborn) (1.3.1)\n",
      "Requirement already satisfied: cycler>=0.10 in c:\\users\\monia\\miniconda3\\lib\\site-packages (from matplotlib!=3.6.1,>=3.4->seaborn) (0.12.1)\n",
      "Requirement already satisfied: fonttools>=4.22.0 in c:\\users\\monia\\miniconda3\\lib\\site-packages (from matplotlib!=3.6.1,>=3.4->seaborn) (4.57.0)\n",
      "Requirement already satisfied: kiwisolver>=1.3.1 in c:\\users\\monia\\miniconda3\\lib\\site-packages (from matplotlib!=3.6.1,>=3.4->seaborn) (1.4.8)\n",
      "Requirement already satisfied: packaging>=20.0 in c:\\users\\monia\\miniconda3\\lib\\site-packages (from matplotlib!=3.6.1,>=3.4->seaborn) (24.2)\n",
      "Requirement already satisfied: pillow>=8 in c:\\users\\monia\\miniconda3\\lib\\site-packages (from matplotlib!=3.6.1,>=3.4->seaborn) (11.1.0)\n",
      "Requirement already satisfied: pyparsing>=2.3.1 in c:\\users\\monia\\miniconda3\\lib\\site-packages (from matplotlib!=3.6.1,>=3.4->seaborn) (2.4.7)\n",
      "Requirement already satisfied: python-dateutil>=2.7 in c:\\users\\monia\\miniconda3\\lib\\site-packages (from matplotlib!=3.6.1,>=3.4->seaborn) (2.9.0.post0)\n",
      "Requirement already satisfied: pytz>=2020.1 in c:\\users\\monia\\miniconda3\\lib\\site-packages (from pandas>=1.2->seaborn) (2025.2)\n",
      "Requirement already satisfied: tzdata>=2022.7 in c:\\users\\monia\\miniconda3\\lib\\site-packages (from pandas>=1.2->seaborn) (2025.2)\n",
      "Requirement already satisfied: six>=1.5 in c:\\users\\monia\\miniconda3\\lib\\site-packages (from python-dateutil>=2.7->matplotlib!=3.6.1,>=3.4->seaborn) (1.17.0)\n",
      "Downloading seaborn-0.13.2-py3-none-any.whl (294 kB)\n",
      "Installing collected packages: seaborn\n",
      "Successfully installed seaborn-0.13.2\n"
     ]
    }
   ],
   "source": [
    "!pip install seaborn"
   ]
  },
  {
   "cell_type": "code",
   "execution_count": null,
   "id": "f378957f-5ce5-407d-9228-1866fb155b9d",
   "metadata": {},
   "outputs": [
    {
     "name": "stderr",
     "output_type": "stream",
     "text": [
      "C:\\Users\\monia\\miniconda3\\Lib\\site-packages\\joblib\\externals\\loky\\backend\\context.py:136: UserWarning: Could not find the number of physical cores for the following reason:\n",
      "[WinError 2] The system cannot find the file specified\n",
      "Returning the number of logical cores instead. You can silence this warning by setting LOKY_MAX_CPU_COUNT to the number of cores you want to use.\n",
      "  warnings.warn(\n",
      "  File \"C:\\Users\\monia\\miniconda3\\Lib\\site-packages\\joblib\\externals\\loky\\backend\\context.py\", line 257, in _count_physical_cores\n",
      "    cpu_info = subprocess.run(\n",
      "               ^^^^^^^^^^^^^^^\n",
      "  File \"C:\\Users\\monia\\miniconda3\\Lib\\subprocess.py\", line 550, in run\n",
      "    with Popen(*popenargs, **kwargs) as process:\n",
      "         ^^^^^^^^^^^^^^^^^^^^^^^^^^^\n",
      "  File \"C:\\Users\\monia\\miniconda3\\Lib\\subprocess.py\", line 1028, in __init__\n",
      "    self._execute_child(args, executable, preexec_fn, close_fds,\n",
      "  File \"C:\\Users\\monia\\miniconda3\\Lib\\subprocess.py\", line 1540, in _execute_child\n",
      "    hp, ht, pid, tid = _winapi.CreateProcess(executable, args,\n",
      "                       ^^^^^^^^^^^^^^^^^^^^^^^^^^^^^^^^^^^^^^^\n"
     ]
    }
   ],
   "source": [
    "import matplotlib.pyplot as plt\n",
    "from sklearn.cluster import KMeans\n",
    "import seaborn as sns\n",
    "import numpy as np\n",
    "\n",
    "# Set up for better style using seaborn\n",
    "sns.set(style=\"whitegrid\")\n",
    "\n",
    "# Create and fit the KMeans model\n",
    "kmeans = KMeans(n_clusters=3, random_state=42)\n",
    "kmeans.fit(X)\n",
    "\n",
    "# Get centroids and labels\n",
    "centroids = kmeans.cluster_centers_\n",
    "labels = kmeans.labels_\n",
    "\n",
    "# Create subplots for different feature pairs\n",
    "fig, axes = plt.subplots(2, 2, figsize=(12, 10))\n",
    "\n",
    "# Plotting the scatter plots for different feature pairs in individual subplots\n",
    "# Young Modulus (E) vs Bandgap\n",
    "axes[0, 0].scatter(X[:, 0], X[:, 1], c=labels, cmap='viridis', alpha=0.7, label=\"Data points\")\n",
    "axes[0, 0].scatter(centroids[:, 0], centroids[:, 1], c='red', marker='X', s=200, label=\"Centroids\")\n",
    "axes[0, 0].set_title(\"Young Modulus (E) vs Bandgap\")\n",
    "axes[0, 0].set_xlabel(\"Young Modulus (E)\")\n",
    "axes[0, 0].set_ylabel(\"Bandgap\")\n",
    "axes[0, 0].legend()\n",
    "\n",
    "# Young Modulus (E) vs Bulk Modulus\n",
    "axes[0, 1].scatter(X[:, 0], X[:, 2], c=labels, cmap='inferno', alpha=0.7, label=\"Data points\")\n",
    "axes[0, 1].scatter(centroids[:, 0], centroids[:, 2], c='red', marker='X', s=200, label=\"Centroids\")\n",
    "axes[0, 1].set_title(\"Young Modulus (E) vs Bulk Modulus\")\n",
    "axes[0, 1].set_xlabel(\"Young Modulus (E)\")\n",
    "axes[0, 1].set_ylabel(\"Bulk Modulus\")\n",
    "axes[0, 1].legend()\n",
    "\n",
    "# Young Modulus (E) vs Shear Modulus\n",
    "axes[1, 0].scatter(X[:, 0], X[:, 3], c=labels, cmap='magma', alpha=0.7, label=\"Data points\")\n",
    "axes[1, 0].scatter(centroids[:, 0], centroids[:, 3], c='red', marker='X', s=200, label=\"Centroids\")\n",
    "axes[1, 0].set_title(\"Young Modulus (E) vs Shear Modulus\")\n",
    "axes[1, 0].set_xlabel(\"Young Modulus (E)\")\n",
    "axes[1, 0].set_ylabel(\"Shear Modulus\")\n",
    "axes[1, 0].legend()\n",
    "\n",
    "# Bulk Modulus vs Shear Modulus\n",
    "axes[1, 1].scatter(X[:, 2], X[:, 3], c=labels, cmap='plasma', alpha=0.7, label=\"Data points\")\n",
    "axes[1, 1].scatter(centroids[:, 2], centroids[:, 3], c='red', marker='X', s=200, label=\"Centroids\")\n",
    "axes[1, 1].set_title(\"Bulk Modulus vs Shear Modulus\")\n",
    "axes[1, 1].set_xlabel(\"Bulk Modulus\")\n",
    "axes[1, 1].set_ylabel(\"Shear Modulus\")\n",
    "axes[1, 1].legend()\n",
    "\n",
    "# Adjust layout for better spacing\n",
    "plt.tight_layout()\n",
    "\n",
    "# Show plot\n",
    "plt.show()\n"
   ]
  },
  {
   "cell_type": "code",
   "execution_count": null,
   "id": "bad7a84f-f0f7-425b-b442-a83db027efa5",
   "metadata": {},
   "outputs": [],
   "source": []
  }
 ],
 "metadata": {
  "kernelspec": {
   "display_name": "Python 3 (ipykernel)",
   "language": "python",
   "name": "python3"
  },
  "language_info": {
   "codemirror_mode": {
    "name": "ipython",
    "version": 3
   },
   "file_extension": ".py",
   "mimetype": "text/x-python",
   "name": "python",
   "nbconvert_exporter": "python",
   "pygments_lexer": "ipython3",
   "version": "3.12.9"
  }
 },
 "nbformat": 4,
 "nbformat_minor": 5
}
